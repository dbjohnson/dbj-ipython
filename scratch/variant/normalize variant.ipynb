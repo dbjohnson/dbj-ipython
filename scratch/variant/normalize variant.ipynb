{
 "metadata": {
  "name": ""
 },
 "nbformat": 3,
 "nbformat_minor": 0,
 "worksheets": [
  {
   "cells": [
    {
     "cell_type": "code",
     "collapsed": false,
     "input": [
      "from timeit import timeit"
     ],
     "language": "python",
     "metadata": {},
     "outputs": [],
     "prompt_number": 39
    },
    {
     "cell_type": "code",
     "collapsed": false,
     "input": [
      "def reverse_and_trim_common_bases_from_front(ref, alt):\n",
      "    position_delta = 0\n",
      "    reverse_ref, reverse_alt = ref[::-1], alt[::-1]\n",
      "    while len(reverse_ref) > 1 and len(reverse_alt) > 1 and reverse_ref[0] == reverse_alt[0]:\n",
      "        reverse_ref, reverse_alt = reverse_ref[1:], reverse_alt[1:]\n",
      "        position_delta += 1\n",
      "    return reverse_ref, reverse_alt, position_delta\n",
      "\n",
      "def normalize_variant( ref, alt, pos=0):\n",
      "    reversed_ref, reversed_alt, position_delta = reverse_and_trim_common_bases_from_front(ref, alt)\n",
      "    normalized_ref, normalized_alt, position_delta = reverse_and_trim_common_bases_from_front(\n",
      "        reversed_ref, reversed_alt)\n",
      "    return {'REF': normalized_ref, 'ALT': normalized_alt, 'POS': pos + position_delta}"
     ],
     "language": "python",
     "metadata": {},
     "outputs": [],
     "prompt_number": 2
    },
    {
     "cell_type": "code",
     "collapsed": false,
     "input": [
      "def reverse_and_trim_common_bases_from_front2(ref, alt):\n",
      "    reversed_ref = list(reversed(ref)) #ref[::-1]\n",
      "    refersed_alt = list(reversed(alt)) #alt[::-1]\n",
      "    stop = min(len(ref), len(alt)) - 1\n",
      "    for (pos_delta, (r, a)) in enumerate(zip(reversed_ref, reversed_alt)):\n",
      "        if r != a or pos_delta == stop:\n",
      "            return reversed_ref[pos_delta:], reversed_alt[pos_delta:], pos_delta\n",
      "\n",
      "\n",
      "def normalize_variant2(ref, alt, pos = 0):\n",
      "    reversed_ref, reversed_alt, position_delta = reverse_and_trim_common_bases_from_front(ref, alt)\n",
      "    normalized_ref, normalized_alt, position_delta = reverse_and_trim_common_bases_from_front(\n",
      "        reversed_ref, reversed_alt)\n",
      "    return {'REF': normalized_ref, 'ALT': normalized_alt, 'POS': pos + position_delta}"
     ],
     "language": "python",
     "metadata": {},
     "outputs": [],
     "prompt_number": 137
    },
    {
     "cell_type": "code",
     "collapsed": false,
     "input": [
      "r = 'GTGGGGGGGGGA'\n",
      "a = 'GTGA'\n",
      "print normalize_variant(r, a)\n",
      "print normalize_variant2(r, a)\n",
      "\n",
      "print timeit(lambda: normalize_variant(r, a), number=100000)\n",
      "print timeit(lambda: normalize_variant2(r, a), number=100000)"
     ],
     "language": "python",
     "metadata": {},
     "outputs": [
      {
       "output_type": "stream",
       "stream": "stdout",
       "text": [
        "{'ALT': 'T', 'REF': 'TGGGGGGGG', 'POS': 1}\n",
        "{'ALT': 'T', 'REF': 'TGGGGGGGG', 'POS': 1}\n",
        "0.453768968582"
       ]
      },
      {
       "output_type": "stream",
       "stream": "stdout",
       "text": [
        "\n",
        "0.540509223938"
       ]
      },
      {
       "output_type": "stream",
       "stream": "stdout",
       "text": [
        "\n"
       ]
      }
     ],
     "prompt_number": 142
    }
   ],
   "metadata": {}
  }
 ]
}