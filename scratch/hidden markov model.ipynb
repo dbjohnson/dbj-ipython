{
 "metadata": {
  "name": "",
  "signature": "sha256:ef0c0655ffdc0d408647c42e005f5bd837509dad60807bf88ce23a7c74c45bfb"
 },
 "nbformat": 3,
 "nbformat_minor": 0,
 "worksheets": [
  {
   "cells": [
    {
     "cell_type": "markdown",
     "metadata": {},
     "source": [
      "##Investigating pyMC framework via implementation of the 5' splice site location search example given here:\n",
      "\n",
      "http://www.nature.com/nbt/journal/v22/n10/full/nbt1004-1315.html"
     ]
    },
    {
     "cell_type": "code",
     "collapsed": false,
     "input": [
      "%matplotlib inline\n",
      "import numpy as np\n",
      "import pymc"
     ],
     "language": "python",
     "metadata": {},
     "outputs": [],
     "prompt_number": 115
    },
    {
     "cell_type": "code",
     "collapsed": false,
     "input": [
      "# HMM definition\n",
      "state_to_obs_probs = {\n",
      "    'exon': {'A':0.25, 'C': 0.25, 'G': 0.25, 'T': 0.25},\n",
      "    'splice_site': {'A':0.05, 'C': 0.0, 'G': 0.95, 'T': 0.0},\n",
      "    'intron': {'A':0.4, 'C': 0.1, 'G': 0.1, 'T': 0.4},\n",
      "}\n",
      "\n",
      "state_to_transition_probs = {\n",
      "    'start': {'start': 0.0, 'exon': 1.0, 'splice_site': 0.0, 'intron': 0.0, 'end': 0.0},\n",
      "    'exon': {'start': 0.0, 'exon': 0.9, 'splice_site': 0.1, 'intron': 0, 'end': 0.0},\n",
      "    'splice_site': {'start': 0.0, 'exon': 0.0, 'splice_site': 0.0, 'intron': 1.0, 'end': 0.0},\n",
      "    'intron': {'start': 0.0, 'exon': 0.0, 'splice_site': 0.0, 'intron': 0.9, 'end': 0.1},\n",
      "    'end': {'start': 0.0, 'exon': 0.0, 'splice_site': 0.0, 'intron': 0.0, 'end': 1.0},\n",
      "}\n",
      "\n",
      "# convert candidate state sequence to a log p-value based on \n",
      "# state-to-nucleotide probability distributions and state\n",
      "# transition probilities\n",
      "def get_state_sequence_probability(observed_sequence, state_sequence):\n",
      "    log_p = 0\n",
      "    last_state = None\n",
      "    for nuc, state in zip(observed_sequence, state_sequence):\n",
      "        obs_p = state_to_obs_probs[state][nuc]\n",
      "        if last_state is None:\n",
      "            trans_p = 1\n",
      "        else:\n",
      "            trans_p = state_to_transition_probs[last_state][state]            \n",
      "            \n",
      "        if trans_p == 0 or trans_p == 0:\n",
      "            raise RuntimeException('Invalide state/sequence: %s/%s/%s' % (nuc, state, last_state))\n",
      "        last_state = state\n",
      "        log_p += np.log(obs_p)\n",
      "        log_p += np.log(trans_p)\n",
      "    \n",
      "    return log_p\n",
      "\n",
      "# test case of a single observed sequence\n",
      "observed_sequence = 'CTTCATGTGAAAGCAGACGTAAGTCA'\n",
      "\n",
      "    \n",
      "# find all potential splice site locations in the observed sequence\n",
      "possible_splice_site_locations = [idx for idx, nuc in enumerate(observed_sequence) \n",
      "                                  if state_to_obs_probs['splice_site'][nuc] > 0]\n",
      "\n",
      "# calculate log P values for each valid state path (easy, since there are only a handful of valid splice sites)\n",
      "splice_site_to_logp = dict()\n",
      "for splice_site in possible_splice_site_locations:\n",
      "    state_sequence = ['exon'] * splice_site\n",
      "    state_sequence.append('splice_site')\n",
      "    state_sequence.extend(['intron'] * (len(observed_sequence) - splice_site - 1))\n",
      "    splice_site_to_logp[splice_site] = get_state_sequence_probability(observed_sequence, state_sequence)\n",
      "    \n",
      "    \n",
      "# print all potential splice site locations, their log(p) and p-values, in descending p-value order    \n",
      "sum_p = sum([np.exp(logp) for logp in splice_site_to_logp.values()])\n",
      "print '\\t'.join(['Splice Site', 'log(p)', 'Probability'])\n",
      "for splice_site in sorted(splice_site_to_logp, key=lambda x: splice_site_to_logp[x], reverse=True):\n",
      "    print '\\t'.join(['%10s' % splice_site, \\\n",
      "                    '%1.1f' % splice_site_to_logp[splice_site], \\\n",
      "                    '%1.3f' % (np.exp(splice_site_to_logp[splice_site]) / sum_p)])"
     ],
     "language": "python",
     "metadata": {},
     "outputs": [
      {
       "output_type": "stream",
       "stream": "stdout",
       "text": [
        "Splice Site\tlog(p)\tProbability\n",
        "        18\t-38.9\t0.456\n",
        "        22\t-39.4\t0.278\n",
        "        15\t-40.3\t0.117\n",
        "         8\t-41.1\t0.049\n",
        "         6\t-41.6\t0.031\n",
        "        12\t-41.6\t0.030\n",
        "        25\t-42.5\t0.013\n",
        "        20\t-42.8\t0.009\n",
        "        21\t-43.3\t0.006\n",
        "        16\t-43.7\t0.004\n",
        "        14\t-44.1\t0.002\n",
        "         9\t-44.6\t0.002\n",
        "         4\t-45.0\t0.001\n",
        "        10\t-45.0\t0.001\n",
        "        11\t-45.5\t0.001\n"
       ]
      }
     ],
     "prompt_number": 116
    },
    {
     "cell_type": "markdown",
     "metadata": {},
     "source": [
      "##Use pyMC to generate valid sequences from this model"
     ]
    },
    {
     "cell_type": "code",
     "collapsed": false,
     "input": [
      "states = sorted(state_to_transition_probs.keys())\n",
      "nucleotides = ['A', 'C', 'G', 'T']\n",
      "index_to_nuc = {nucleotides.index(nuc) for nuc in nucleotides}\n",
      "\n",
      "state_to_obs_dist = dict()\n",
      "state_to_trans_dist = dict()\n",
      "for state in states:\n",
      "    if state in state_to_obs_probs:\n",
      "        p = [state_to_obs_probs[state][nuc]\n",
      "             if nuc in state_to_obs_probs[state]\n",
      "             else 0\n",
      "             for nuc in nucleoties]\n",
      "        state_to_obs_dist[state] = pymc.Categorical(state, p=p)\n",
      "    \n",
      "    p = [state_to_transition_probs[state][next_state] \n",
      "         if next_state in state_to_transition_probs[state]\n",
      "         else 0\n",
      "         for next_state in states]\n",
      "\n",
      "    state_to_trans_dist[state] = pymc.Categorical(state, p=p)\n",
      "\n",
      "\n",
      "n_draws = 1000\n",
      "seqs = []\n",
      "for draw in xrange(n_draws):\n",
      "    state = 'start'\n",
      "    sequence = []\n",
      "    splice_site = None\n",
      "    while state != 'end':\n",
      "        if state not in ('start', 'end'):\n",
      "            sequence.append(nucleotides[state_to_obs_dist[state].rand()])\n",
      "            if state == 'splice_site':\n",
      "                splice_site = len(sequence)\n",
      "        state = states[state_to_trans_dist[state].rand()]\n",
      "    \n",
      "    seqs.append((sequence, splice_site))\n"
     ],
     "language": "python",
     "metadata": {},
     "outputs": [],
     "prompt_number": 139
    },
    {
     "cell_type": "markdown",
     "metadata": {},
     "source": [
      "##Estimate maximum a posteriori (MAP) value for the intron to splice site transition probability\n",
      "First step - we can't use artibrary length nucleotide sequences for our observed variable -- [HMM homie don't play that](https://31.media.tumblr.com/9aff71dea7948b2e54d679f38f2dd209/tumblr_muoo68QK0c1r67zo4o1_400.gif).  \n",
      "\n",
      "Let's just use the integer splice site location.  We could generate estimates for the other model parameters using the following fixed-length representations:\n",
      "- count for each nucleotide before splice site (per-nucleotide emission probabilities in intron)\n",
      "- splice site nucleotide (per-nucleotide emission probabilities at splice site)\n",
      "- count for each nucleotide after splice site (per-nucleotide emission probabilities in intron)\n",
      "- total count of intronic bases following splice site (exon-to-end state transition probability)\n"
     ]
    },
    {
     "cell_type": "code",
     "collapsed": false,
     "input": [
      "# Separate the observed splice site locations from the rest of the simulated data\n",
      "observed_splice_sites = np.array(zip(*seqs)[1])\n",
      "\n",
      "# Create a uniform variable to represent the probability of transitioning state from exon to splice site.\n",
      "# This means we have no prior expectation on what that transition probability is\n",
      "p_trans_exon_to_splice_site = pymc.Uniform('p_trans_exon_to_splice_site', lower=0, upper=1)\n",
      "\n",
      "\n",
      "# Create a dependent stochastic variable for splice site location given a value for p_trans_exon_to_splice_site\n",
      "# Note: This syntax is kinda wonky -- have to set up functions for sampling from the distribution, and calculating\n",
      "# logp for a given draw, then create an instance of Stochastic that references those functions.  Even the pyMC docs\n",
      "# admit this is clunky and should be avoided, when possible, by using one of their built-in distributions, (or\n",
      "# subclassing Stochastic, I suppose)\n",
      "\n",
      "# generate a splice site location given p_trans\n",
      "def random_splice_site(p_trans):\n",
      "    position = 0\n",
      "    while np.random.random() < (1-p_trans):\n",
      "        position += 1\n",
      "\n",
      "    return position\n",
      "\n",
      "# calculate sum(logp) for the observed splice site values\n",
      "def logp_splice_site(value, p_trans):\n",
      "    # Bootstrap the distribution for this transition probability.\n",
      "    # TODO: there's a better/faster way.  Leaving for now, as the point\n",
      "    # of this excercise is to learn pyMC\n",
      "    location_counts = defaultdict(int)\n",
      "    draws = int(1e4)\n",
      "    for i in xrange(draws):\n",
      "        location_counts[random_splice_site(p_trans)] += 1\n",
      "    \n",
      "    # sum logp over all the observed values (frustratingly, pyMC insists on calling the \n",
      "    # variable that contains those observations \"value\", even though it is an array\n",
      "    # when dealing with observed variables)\n",
      "    sum_logp = 0\n",
      "    for splice_site in value:\n",
      "        p = location_counts[float(splice_site)] / float(draws)\n",
      "        sum_logp += np.log(max(1e-80, p))  # TODO: figure how to handle this floor on p better\n",
      "        \n",
      "    return sum_logp\n",
      "\n",
      "splice_site = pymc.Stochastic(\n",
      "                logp=logp_splice_site,\n",
      "                doc='Splice site location',\n",
      "                name='splice_site',\n",
      "                parents={'p_trans': p_trans_exon_to_splice_site},\n",
      "                random=random_splice_site,\n",
      "                trace=True,\n",
      "                value=observed_splice_sites,\n",
      "                dtype=int,\n",
      "                rseed=1.,\n",
      "                observed=True,\n",
      "                cache_depth=2,\n",
      "                plot=True,\n",
      "                verbose=0)"
     ],
     "language": "python",
     "metadata": {},
     "outputs": [],
     "prompt_number": 137
    },
    {
     "cell_type": "markdown",
     "metadata": {},
     "source": [
      "## Now that we've created distributions for both the state transition probability and the observed splice site locations (from our simulated data), use Markov-chain Monte Carlo to fit the state transition probability's value to the observed splice site locations."
     ]
    },
    {
     "cell_type": "code",
     "collapsed": false,
     "input": [
      "model = pymc.MCMC([p_trans_exon_to_splice_site, splice_site])\n",
      "\n",
      "# Note - the bootstrapping used in logp_splice_site makes this slower than it should be.  \n",
      "model.sample(iter=100, burn=0, thin=10)\n",
      "pymc.Matplot.plot(model)"
     ],
     "language": "python",
     "metadata": {},
     "outputs": [
      {
       "output_type": "stream",
       "stream": "stdout",
       "text": [
        "\r",
        " [---------        25%                  ] 25 of 100 complete in 0.6 sec"
       ]
      },
      {
       "output_type": "stream",
       "stream": "stdout",
       "text": [
        "\r",
        " [------------     33%                  ] 33 of 100 complete in 1.4 sec"
       ]
      },
      {
       "output_type": "stream",
       "stream": "stdout",
       "text": [
        "\r",
        " [---------------- 43%                  ] 43 of 100 complete in 1.9 sec"
       ]
      },
      {
       "output_type": "stream",
       "stream": "stdout",
       "text": [
        "\r",
        " [-----------------49%                  ] 49 of 100 complete in 2.4 sec"
       ]
      },
      {
       "output_type": "stream",
       "stream": "stdout",
       "text": [
        "\r",
        " [-----------------75%--------          ] 75 of 100 complete in 3.1 sec"
       ]
      },
      {
       "output_type": "stream",
       "stream": "stdout",
       "text": [
        "\r",
        " [-----------------101%-----------------] 101 of 100 complete in 3.6 sec"
       ]
      },
      {
       "output_type": "stream",
       "stream": "stdout",
       "text": [
        "Plotting p_trans_exon_to_splice_site\n"
       ]
      },
      {
       "metadata": {},
       "output_type": "display_data",
       "png": "[encoded data removed]",
       "text": [
        "<matplotlib.figure.Figure at 0x114860890>"
       ]
      }
     ],
     "prompt_number": 138
    }
   ],
   "metadata": {}
  }
 ]
}