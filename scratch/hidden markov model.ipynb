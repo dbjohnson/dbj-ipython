{
 "metadata": {
  "name": "",
  "signature": "sha256:899ad387d3243d9fc2f40dbc02cba663a8dd601d4f33b8bf3463f5b4db479fe0"
 },
 "nbformat": 3,
 "nbformat_minor": 0,
 "worksheets": [
  {
   "cells": [
    {
     "cell_type": "markdown",
     "metadata": {},
     "source": [
      "##Investigating pyMC framework via implementation of the 5' splice site location search example given here:\n",
      "\n",
      "http://www.nature.com/nbt/journal/v22/n10/full/nbt1004-1315.html"
     ]
    },
    {
     "cell_type": "code",
     "collapsed": false,
     "input": [
      "%matplotlib inline\n",
      "import scipy.stats\n",
      "import numpy as np\n",
      "import pymc\n",
      "from collections import defaultdict"
     ],
     "language": "python",
     "metadata": {},
     "outputs": [],
     "prompt_number": 2
    },
    {
     "cell_type": "code",
     "collapsed": false,
     "input": [
      "# HMM definition - per-state emission probabilities and state transition matrix\n",
      "state_to_obs_probs = {\n",
      "    'exon': {'A':0.25, 'C': 0.25, 'G': 0.25, 'T': 0.25},\n",
      "    'splice_site': {'A':0.05, 'C': 0.0, 'G': 0.95, 'T': 0.0},\n",
      "    'intron': {'A':0.4, 'C': 0.1, 'G': 0.1, 'T': 0.4},\n",
      "}\n",
      "\n",
      "state_to_transition_probs = {\n",
      "    'start': {'start': 0.0, 'exon': 1.0, 'splice_site': 0.0, 'intron': 0.0, 'end': 0.0},\n",
      "    'exon': {'start': 0.0, 'exon': 0.9, 'splice_site': 0.1, 'intron': 0, 'end': 0.0},\n",
      "    'splice_site': {'start': 0.0, 'exon': 0.0, 'splice_site': 0.0, 'intron': 1.0, 'end': 0.0},\n",
      "    'intron': {'start': 0.0, 'exon': 0.0, 'splice_site': 0.0, 'intron': 0.9, 'end': 0.1},\n",
      "    'end': {'start': 0.0, 'exon': 0.0, 'splice_site': 0.0, 'intron': 0.0, 'end': 1.0},\n",
      "}\n",
      "\n",
      "# convert candidate state sequence to a log p-value based on \n",
      "# state-to-nucleotide probability distributions and state\n",
      "# transition probilities\n",
      "def get_state_sequence_probability(observed_sequence, state_sequence):\n",
      "    log_p = 0\n",
      "    last_state = None\n",
      "    for nuc, state in zip(observed_sequence, state_sequence):\n",
      "        obs_p = state_to_obs_probs[state][nuc]\n",
      "        if last_state is None:\n",
      "            trans_p = 1\n",
      "        else:\n",
      "            trans_p = state_to_transition_probs[last_state][state]            \n",
      "            \n",
      "        if trans_p == 0 or trans_p == 0:\n",
      "            raise RuntimeException('Invalide state/sequence: %s/%s/%s' % (nuc, state, last_state))\n",
      "        last_state = state\n",
      "        log_p += np.log(obs_p)\n",
      "        log_p += np.log(trans_p)\n",
      "    \n",
      "    return log_p\n",
      "\n",
      "# test case of a single observed sequence\n",
      "observed_sequence = 'CTTCATGTGAAAGCAGACGTAAGTCA'\n",
      "\n",
      "    \n",
      "# find all potential splice site locations in the observed sequence\n",
      "possible_splice_site_locations = [idx for idx, nuc in enumerate(observed_sequence) \n",
      "                                  if state_to_obs_probs['splice_site'][nuc] > 0]\n",
      "\n",
      "# calculate log P values for each valid state path (easy, since there are only a handful of valid splice sites)\n",
      "splice_site_to_logp = dict()\n",
      "for splice_site in possible_splice_site_locations:\n",
      "    state_sequence = ['exon'] * splice_site\n",
      "    state_sequence.append('splice_site')\n",
      "    state_sequence.extend(['intron'] * (len(observed_sequence) - splice_site - 1))\n",
      "    splice_site_to_logp[splice_site] = get_state_sequence_probability(observed_sequence, state_sequence)\n",
      "    \n",
      "    \n",
      "# print all potential splice site locations, their log(p) and p-values, in descending p-value order    \n",
      "sum_p = sum([np.exp(logp) for logp in splice_site_to_logp.values()])\n",
      "print '\\t'.join(['Splice Site', 'log(p)', 'Probability'])\n",
      "for splice_site in sorted(splice_site_to_logp, key=lambda x: splice_site_to_logp[x], reverse=True):\n",
      "    print '\\t'.join(['%10s' % splice_site, \\\n",
      "                    '%1.1f' % splice_site_to_logp[splice_site], \\\n",
      "                    '%1.3f' % (np.exp(splice_site_to_logp[splice_site]) / sum_p)])"
     ],
     "language": "python",
     "metadata": {},
     "outputs": [
      {
       "output_type": "stream",
       "stream": "stdout",
       "text": [
        "Splice Site\tlog(p)\tProbability\n",
        "        18\t-38.9\t0.456\n",
        "        22\t-39.4\t0.278\n",
        "        15\t-40.3\t0.117\n",
        "         8\t-41.1\t0.049\n",
        "         6\t-41.6\t0.031\n",
        "        12\t-41.6\t0.030\n",
        "        25\t-42.5\t0.013\n",
        "        20\t-42.8\t0.009\n",
        "        21\t-43.3\t0.006\n",
        "        16\t-43.7\t0.004\n",
        "        14\t-44.1\t0.002\n",
        "         9\t-44.6\t0.002\n",
        "         4\t-45.0\t0.001\n",
        "        10\t-45.0\t0.001\n",
        "        11\t-45.5\t0.001\n"
       ]
      }
     ],
     "prompt_number": 7
    },
    {
     "cell_type": "markdown",
     "metadata": {},
     "source": [
      "##Use pyMC to generate valid sequences from this model"
     ]
    },
    {
     "cell_type": "code",
     "collapsed": false,
     "input": [
      "states = sorted(state_to_transition_probs.keys())\n",
      "nucleotides = ['A', 'C', 'G', 'T']\n",
      "index_to_nuc = {nucleotides.index(nuc) for nuc in nucleotides}\n",
      "\n",
      "state_to_obs_dist = dict()\n",
      "state_to_trans_dist = dict()\n",
      "for state in states:\n",
      "    if state in state_to_obs_probs:\n",
      "        p = [state_to_obs_probs[state][nuc]\n",
      "             if nuc in state_to_obs_probs[state]\n",
      "             else 0\n",
      "             for nuc in nucleotides]\n",
      "        state_to_obs_dist[state] = pymc.Categorical(state, p=p)\n",
      "    \n",
      "    p = [state_to_transition_probs[state][next_state] \n",
      "         if next_state in state_to_transition_probs[state]\n",
      "         else 0\n",
      "         for next_state in states]\n",
      "\n",
      "    state_to_trans_dist[state] = pymc.Categorical(state, p=p)\n",
      "\n",
      "\n",
      "n_draws = 10000\n",
      "seqs = []\n",
      "for draw in xrange(n_draws):\n",
      "    state = 'start'\n",
      "    sequence = []\n",
      "    splice_site = None\n",
      "    while state != 'end':\n",
      "        if state not in ('start', 'end'):\n",
      "            sequence.append(nucleotides[state_to_obs_dist[state].rand()])\n",
      "            if state == 'splice_site':\n",
      "                splice_site = len(sequence)\n",
      "        state = states[state_to_trans_dist[state].rand()]\n",
      "    \n",
      "    seqs.append((sequence, splice_site))\n"
     ],
     "language": "python",
     "metadata": {},
     "outputs": [],
     "prompt_number": 53
    },
    {
     "cell_type": "markdown",
     "metadata": {},
     "source": [
      "##Estimate maximum a posteriori (MAP) value for the intron to splice site transition probability\n",
      "First step - we can't use artibrary length nucleotide sequences for our observed variable -- [HMM homie don't play that](https://31.media.tumblr.com/9aff71dea7948b2e54d679f38f2dd209/tumblr_muoo68QK0c1r67zo4o1_400.gif).  \n",
      "\n",
      "Let's just use the integer splice site location.  We could generate estimates for the other model parameters using the following fixed-length representations:\n",
      "- count for each nucleotide before splice site (per-nucleotide emission probabilities in intron)\n",
      "- splice site nucleotide (per-nucleotide emission probabilities at splice site)\n",
      "- count for each nucleotide after splice site (per-nucleotide emission probabilities in intron)\n",
      "- total count of intronic bases following splice site (exon-to-end state transition probability)\n"
     ]
    },
    {
     "cell_type": "code",
     "collapsed": false,
     "input": [
      "# Separate the observed splice site locations from the rest of the simulated data\n",
      "observed_splice_sites = np.array(zip(*seqs)[1])\n",
      "\n",
      "# Create a uniform variable to represent the probability of transitioning state from exon to splice site.\n",
      "# This means we have no prior expectation on what that transition probability is\n",
      "p_trans_exon_to_splice_site = pymc.Uniform('p_trans_exon_to_splice_site', lower=0, upper=1)\n",
      "\n",
      "\n",
      "# Create a dependent stochastic variable for splice site location given a value for p_trans_exon_to_splice_site\n",
      "# Note: This syntax is kinda wonky -- have to set up functions for sampling from the distribution, and calculating\n",
      "# logp for a given draw, then create an instance of Stochastic that references those functions.  Even the pyMC docs\n",
      "# admit this is clunky and should be avoided, when possible, by using one of their built-in distributions, (or\n",
      "# subclassing Stochastic, I suppose)\n",
      "\n",
      "# Note: this is just a special case of a binomial distribution where k = n - 1, where n is the \n",
      "# splice site location. In other words, if we rolled the dice on the state transition from \n",
      "# intron to splice site, the first k times we failed to change state and remained in the intron\n",
      "# state.\n",
      "\n",
      "# generate a splice site location given p_trans\n",
      "# Note: this isn't strictly necessary to perform the model fit, but is nice to have\n",
      "# here for reference.\n",
      "def random_splice_site(p_trans):\n",
      "    position = 0\n",
      "    while np.random.random() < (1-p_trans):\n",
      "        position += 1\n",
      "\n",
      "    return position\n",
      "\n",
      "# calculate sum(logp) for the observed splice site values\n",
      "def logp_splice_site(value, p_trans):\n",
      "    # sum logp over all the observed values (frustratingly, pyMC insists on calling the \n",
      "    # variable that contains those observations \"value\", even though it is an array\n",
      "    # when dealing with observed variables)\n",
      "    sum_logp = 0\n",
      "    for splice_site in value:\n",
      "        p_no_transition = 1 - p_trans\n",
      "        p = scipy.stats.binom.pmf(splice_site-1, splice_site, p_no_transition)\n",
      "        sum_logp += np.log(max(1e-80, p))  # TODO: figure how to handle this floor on p better\n",
      "        \n",
      "    return sum_logp\n",
      "\n",
      "splice_site = pymc.Stochastic(\n",
      "                logp=logp_splice_site,\n",
      "                doc='Splice site location',\n",
      "                name='splice_site',\n",
      "                parents={'p_trans': p_trans_exon_to_splice_site},\n",
      "                random=random_splice_site,\n",
      "                trace=True,\n",
      "                value=observed_splice_sites,\n",
      "                dtype=int,\n",
      "                rseed=1.,\n",
      "                observed=True,\n",
      "                cache_depth=2,\n",
      "                plot=True,\n",
      "                verbose=0)"
     ],
     "language": "python",
     "metadata": {},
     "outputs": [],
     "prompt_number": 61
    },
    {
     "cell_type": "markdown",
     "metadata": {},
     "source": [
      "## Now that we've created distributions for both the state transition probability and the observed splice site locations (from our simulated data), use Markov-chain Monte Carlo to fit the state transition probability's value to the observed splice site locations."
     ]
    },
    {
     "cell_type": "code",
     "collapsed": false,
     "input": [
      "model = pymc.MCMC([p_trans_exon_to_splice_site, splice_site])\n",
      "model.sample(iter=200, burn=0, thin=10)\n",
      "pymc.Matplot.plot(model)"
     ],
     "language": "python",
     "metadata": {},
     "outputs": [
      {
       "output_type": "stream",
       "stream": "stdout",
       "text": [
        "\r",
        " [                  1%                  ] 2 of 200 complete in 0.9 sec"
       ]
      },
      {
       "output_type": "stream",
       "stream": "stdout",
       "text": [
        "\r",
        " [                  1%                  ] 3 of 200 complete in 1.8 sec"
       ]
      },
      {
       "output_type": "stream",
       "stream": "stdout",
       "text": [
        "\r",
        " [                  2%                  ] 4 of 200 complete in 2.7 sec"
       ]
      },
      {
       "output_type": "stream",
       "stream": "stdout",
       "text": [
        "\r",
        " [                  2%                  ] 5 of 200 complete in 3.6 sec"
       ]
      },
      {
       "output_type": "stream",
       "stream": "stdout",
       "text": [
        "\r",
        " [-                 3%                  ] 6 of 200 complete in 4.5 sec"
       ]
      },
      {
       "output_type": "stream",
       "stream": "stdout",
       "text": [
        "\r",
        " [-                 3%                  ] 7 of 200 complete in 5.4 sec"
       ]
      },
      {
       "output_type": "stream",
       "stream": "stdout",
       "text": [
        "\r",
        " [-                 4%                  ] 9 of 200 complete in 6.3 sec"
       ]
      },
      {
       "output_type": "stream",
       "stream": "stdout",
       "text": [
        "\r",
        " [--                5%                  ] 11 of 200 complete in 7.3 sec"
       ]
      },
      {
       "output_type": "stream",
       "stream": "stdout",
       "text": [
        "\r",
        " [--                6%                  ] 12 of 200 complete in 8.2 sec"
       ]
      },
      {
       "output_type": "stream",
       "stream": "stdout",
       "text": [
        "\r",
        " [--                6%                  ] 13 of 200 complete in 9.1 sec"
       ]
      },
      {
       "output_type": "stream",
       "stream": "stdout",
       "text": [
        "\r",
        " [--                7%                  ] 14 of 200 complete in 10.0 sec"
       ]
      },
      {
       "output_type": "stream",
       "stream": "stdout",
       "text": [
        "\r",
        " [--                7%                  ] 15 of 200 complete in 10.9 sec"
       ]
      },
      {
       "output_type": "stream",
       "stream": "stdout",
       "text": [
        "\r",
        " [---               9%                  ] 18 of 200 complete in 11.9 sec"
       ]
      },
      {
       "output_type": "stream",
       "stream": "stdout",
       "text": [
        "\r",
        " [---              10%                  ] 20 of 200 complete in 12.8 sec"
       ]
      },
      {
       "output_type": "stream",
       "stream": "stdout",
       "text": [
        "\r",
        " [---              10%                  ] 21 of 200 complete in 13.7 sec"
       ]
      },
      {
       "output_type": "stream",
       "stream": "stdout",
       "text": [
        "\r",
        " [----             11%                  ] 22 of 200 complete in 14.6 sec"
       ]
      },
      {
       "output_type": "stream",
       "stream": "stdout",
       "text": [
        "\r",
        " [----             11%                  ] 23 of 200 complete in 15.5 sec"
       ]
      },
      {
       "output_type": "stream",
       "stream": "stdout",
       "text": [
        "\r",
        " [----             12%                  ] 24 of 200 complete in 16.4 sec"
       ]
      },
      {
       "output_type": "stream",
       "stream": "stdout",
       "text": [
        "\r",
        " [----             12%                  ] 25 of 200 complete in 17.3 sec"
       ]
      },
      {
       "output_type": "stream",
       "stream": "stdout",
       "text": [
        "\r",
        " [----             13%                  ] 26 of 200 complete in 18.2 sec"
       ]
      },
      {
       "output_type": "stream",
       "stream": "stdout",
       "text": [
        "\r",
        " [-----            14%                  ] 28 of 200 complete in 19.2 sec"
       ]
      },
      {
       "output_type": "stream",
       "stream": "stdout",
       "text": [
        "\r",
        " [-----            15%                  ] 31 of 200 complete in 20.1 sec"
       ]
      },
      {
       "output_type": "stream",
       "stream": "stdout",
       "text": [
        "\r",
        " [------           16%                  ] 32 of 200 complete in 21.0 sec"
       ]
      },
      {
       "output_type": "stream",
       "stream": "stdout",
       "text": [
        "\r",
        " [------           16%                  ] 33 of 200 complete in 21.9 sec"
       ]
      },
      {
       "output_type": "stream",
       "stream": "stdout",
       "text": [
        "\r",
        " [------           17%                  ] 35 of 200 complete in 22.8 sec"
       ]
      },
      {
       "output_type": "stream",
       "stream": "stdout",
       "text": [
        "\r",
        " [------           18%                  ] 36 of 200 complete in 23.6 sec"
       ]
      },
      {
       "output_type": "stream",
       "stream": "stdout",
       "text": [
        "\r",
        " [-------          18%                  ] 37 of 200 complete in 24.5 sec"
       ]
      },
      {
       "output_type": "stream",
       "stream": "stdout",
       "text": [
        "\r",
        " [-------          19%                  ] 38 of 200 complete in 25.4 sec"
       ]
      },
      {
       "output_type": "stream",
       "stream": "stdout",
       "text": [
        "\r",
        " [-------          19%                  ] 39 of 200 complete in 26.3 sec"
       ]
      },
      {
       "output_type": "stream",
       "stream": "stdout",
       "text": [
        "\r",
        " [-------          20%                  ] 40 of 200 complete in 27.3 sec"
       ]
      },
      {
       "output_type": "stream",
       "stream": "stdout",
       "text": [
        "\r",
        " [-------          20%                  ] 41 of 200 complete in 28.3 sec"
       ]
      },
      {
       "output_type": "stream",
       "stream": "stdout",
       "text": [
        "\r",
        " [--------         21%                  ] 43 of 200 complete in 29.2 sec"
       ]
      },
      {
       "output_type": "stream",
       "stream": "stdout",
       "text": [
        "\r",
        " [--------         22%                  ] 44 of 200 complete in 30.1 sec"
       ]
      },
      {
       "output_type": "stream",
       "stream": "stdout",
       "text": [
        "\r",
        " [--------         22%                  ] 45 of 200 complete in 30.9 sec"
       ]
      },
      {
       "output_type": "stream",
       "stream": "stdout",
       "text": [
        "\r",
        " [--------         23%                  ] 46 of 200 complete in 31.8 sec"
       ]
      },
      {
       "output_type": "stream",
       "stream": "stdout",
       "text": [
        "\r",
        " [---------        24%                  ] 48 of 200 complete in 32.7 sec"
       ]
      },
      {
       "output_type": "stream",
       "stream": "stdout",
       "text": [
        "\r",
        " [---------        25%                  ] 50 of 200 complete in 33.6 sec"
       ]
      },
      {
       "output_type": "stream",
       "stream": "stdout",
       "text": [
        "\r",
        " [----------       26%                  ] 53 of 200 complete in 34.5 sec"
       ]
      },
      {
       "output_type": "stream",
       "stream": "stdout",
       "text": [
        "\r",
        " [----------       27%                  ] 54 of 200 complete in 35.4 sec"
       ]
      },
      {
       "output_type": "stream",
       "stream": "stdout",
       "text": [
        "\r",
        " [----------       27%                  ] 55 of 200 complete in 36.3 sec"
       ]
      },
      {
       "output_type": "stream",
       "stream": "stdout",
       "text": [
        "\r",
        " [----------       28%                  ] 56 of 200 complete in 37.2 sec"
       ]
      },
      {
       "output_type": "stream",
       "stream": "stdout",
       "text": [
        "\r",
        " [----------       28%                  ] 57 of 200 complete in 38.1 sec"
       ]
      },
      {
       "output_type": "stream",
       "stream": "stdout",
       "text": [
        "\r",
        " [-----------      29%                  ] 58 of 200 complete in 39.0 sec"
       ]
      },
      {
       "output_type": "stream",
       "stream": "stdout",
       "text": [
        "\r",
        " [-----------      30%                  ] 60 of 200 complete in 39.9 sec"
       ]
      },
      {
       "output_type": "stream",
       "stream": "stdout",
       "text": [
        "\r",
        " [-----------      30%                  ] 61 of 200 complete in 40.8 sec"
       ]
      },
      {
       "output_type": "stream",
       "stream": "stdout",
       "text": [
        "\r",
        " [------------     32%                  ] 64 of 200 complete in 41.7 sec"
       ]
      },
      {
       "output_type": "stream",
       "stream": "stdout",
       "text": [
        "\r",
        " [------------     32%                  ] 65 of 200 complete in 42.6 sec"
       ]
      },
      {
       "output_type": "stream",
       "stream": "stdout",
       "text": [
        "\r",
        " [------------     33%                  ] 66 of 200 complete in 43.5 sec"
       ]
      },
      {
       "output_type": "stream",
       "stream": "stdout",
       "text": [
        "\r",
        " [------------     33%                  ] 67 of 200 complete in 44.4 sec"
       ]
      },
      {
       "output_type": "stream",
       "stream": "stdout",
       "text": [
        "\r",
        " [-------------    34%                  ] 69 of 200 complete in 45.2 sec"
       ]
      },
      {
       "output_type": "stream",
       "stream": "stdout",
       "text": [
        "\r",
        " [-------------    35%                  ] 71 of 200 complete in 46.1 sec"
       ]
      },
      {
       "output_type": "stream",
       "stream": "stdout",
       "text": [
        "\r",
        " [-------------    36%                  ] 72 of 200 complete in 47.0 sec"
       ]
      },
      {
       "output_type": "stream",
       "stream": "stdout",
       "text": [
        "\r",
        " [-------------    36%                  ] 73 of 200 complete in 47.9 sec"
       ]
      },
      {
       "output_type": "stream",
       "stream": "stdout",
       "text": [
        "\r",
        " [--------------   37%                  ] 75 of 200 complete in 48.8 sec"
       ]
      },
      {
       "output_type": "stream",
       "stream": "stdout",
       "text": [
        "\r",
        " [--------------   38%                  ] 76 of 200 complete in 49.7 sec"
       ]
      },
      {
       "output_type": "stream",
       "stream": "stdout",
       "text": [
        "\r",
        " [--------------   38%                  ] 77 of 200 complete in 50.6 sec"
       ]
      },
      {
       "output_type": "stream",
       "stream": "stdout",
       "text": [
        "\r",
        " [--------------   39%                  ] 78 of 200 complete in 51.5 sec"
       ]
      },
      {
       "output_type": "stream",
       "stream": "stdout",
       "text": [
        "\r",
        " [---------------  39%                  ] 79 of 200 complete in 52.4 sec"
       ]
      },
      {
       "output_type": "stream",
       "stream": "stdout",
       "text": [
        "\r",
        " [---------------  40%                  ] 80 of 200 complete in 53.3 sec"
       ]
      },
      {
       "output_type": "stream",
       "stream": "stdout",
       "text": [
        "\r",
        " [---------------  40%                  ] 81 of 200 complete in 54.1 sec"
       ]
      },
      {
       "output_type": "stream",
       "stream": "stdout",
       "text": [
        "\r",
        " [---------------  41%                  ] 83 of 200 complete in 55.0 sec"
       ]
      },
      {
       "output_type": "stream",
       "stream": "stdout",
       "text": [
        "\r",
        " [---------------  42%                  ] 84 of 200 complete in 55.9 sec"
       ]
      },
      {
       "output_type": "stream",
       "stream": "stdout",
       "text": [
        "\r",
        " [---------------- 43%                  ] 86 of 200 complete in 56.8 sec"
       ]
      },
      {
       "output_type": "stream",
       "stream": "stdout",
       "text": [
        "\r",
        " [-----------------45%                  ] 90 of 200 complete in 57.7 sec"
       ]
      },
      {
       "output_type": "stream",
       "stream": "stdout",
       "text": [
        "\r",
        " [-----------------45%                  ] 91 of 200 complete in 58.6 sec"
       ]
      },
      {
       "output_type": "stream",
       "stream": "stdout",
       "text": [
        "\r",
        " [-----------------46%                  ] 92 of 200 complete in 59.5 sec"
       ]
      },
      {
       "output_type": "stream",
       "stream": "stdout",
       "text": [
        "\r",
        " [-----------------46%                  ] 93 of 200 complete in 60.4 sec"
       ]
      },
      {
       "output_type": "stream",
       "stream": "stdout",
       "text": [
        "\r",
        " [-----------------48%                  ] 96 of 200 complete in 61.3 sec"
       ]
      },
      {
       "output_type": "stream",
       "stream": "stdout",
       "text": [
        "\r",
        " [-----------------48%                  ] 97 of 200 complete in 62.2 sec"
       ]
      },
      {
       "output_type": "stream",
       "stream": "stdout",
       "text": [
        "\r",
        " [-----------------49%                  ] 98 of 200 complete in 63.1 sec"
       ]
      },
      {
       "output_type": "stream",
       "stream": "stdout",
       "text": [
        "\r",
        " [-----------------50%                  ] 100 of 200 complete in 64.0 sec"
       ]
      },
      {
       "output_type": "stream",
       "stream": "stdout",
       "text": [
        "\r",
        " [-----------------50%                  ] 101 of 200 complete in 64.9 sec"
       ]
      },
      {
       "output_type": "stream",
       "stream": "stdout",
       "text": [
        "\r",
        " [-----------------51%                  ] 102 of 200 complete in 65.8 sec"
       ]
      },
      {
       "output_type": "stream",
       "stream": "stdout",
       "text": [
        "\r",
        " [-----------------51%                  ] 103 of 200 complete in 66.7 sec"
       ]
      },
      {
       "output_type": "stream",
       "stream": "stdout",
       "text": [
        "\r",
        " [-----------------52%                  ] 105 of 200 complete in 67.6 sec"
       ]
      },
      {
       "output_type": "stream",
       "stream": "stdout",
       "text": [
        "\r",
        " [-----------------54%                  ] 108 of 200 complete in 68.5 sec"
       ]
      },
      {
       "output_type": "stream",
       "stream": "stdout",
       "text": [
        "\r",
        " [-----------------55%                  ] 110 of 200 complete in 69.5 sec"
       ]
      },
      {
       "output_type": "stream",
       "stream": "stdout",
       "text": [
        "\r",
        " [-----------------55%-                 ] 111 of 200 complete in 70.3 sec"
       ]
      },
      {
       "output_type": "stream",
       "stream": "stdout",
       "text": [
        "\r",
        " [-----------------56%-                 ] 113 of 200 complete in 71.3 sec"
       ]
      },
      {
       "output_type": "stream",
       "stream": "stdout",
       "text": [
        "\r",
        " [-----------------57%-                 ] 114 of 200 complete in 72.2 sec"
       ]
      },
      {
       "output_type": "stream",
       "stream": "stdout",
       "text": [
        "\r",
        " [-----------------57%-                 ] 115 of 200 complete in 73.1 sec"
       ]
      },
      {
       "output_type": "stream",
       "stream": "stdout",
       "text": [
        "\r",
        " [-----------------58%--                ] 116 of 200 complete in 74.0 sec"
       ]
      },
      {
       "output_type": "stream",
       "stream": "stdout",
       "text": [
        "\r",
        " [-----------------59%--                ] 118 of 200 complete in 74.9 sec"
       ]
      },
      {
       "output_type": "stream",
       "stream": "stdout",
       "text": [
        "\r",
        " [-----------------59%--                ] 119 of 200 complete in 75.8 sec"
       ]
      },
      {
       "output_type": "stream",
       "stream": "stdout",
       "text": [
        "\r",
        " [-----------------61%---               ] 122 of 200 complete in 76.7 sec"
       ]
      },
      {
       "output_type": "stream",
       "stream": "stdout",
       "text": [
        "\r",
        " [-----------------61%---               ] 123 of 200 complete in 77.6 sec"
       ]
      },
      {
       "output_type": "stream",
       "stream": "stdout",
       "text": [
        "\r",
        " [-----------------62%---               ] 125 of 200 complete in 78.5 sec"
       ]
      },
      {
       "output_type": "stream",
       "stream": "stdout",
       "text": [
        "\r",
        " [-----------------63%---               ] 126 of 200 complete in 79.4 sec"
       ]
      },
      {
       "output_type": "stream",
       "stream": "stdout",
       "text": [
        "\r",
        " [-----------------64%----              ] 128 of 200 complete in 80.3 sec"
       ]
      },
      {
       "output_type": "stream",
       "stream": "stdout",
       "text": [
        "\r",
        " [-----------------64%----              ] 129 of 200 complete in 81.2 sec"
       ]
      },
      {
       "output_type": "stream",
       "stream": "stdout",
       "text": [
        "\r",
        " [-----------------65%----              ] 130 of 200 complete in 82.1 sec"
       ]
      },
      {
       "output_type": "stream",
       "stream": "stdout",
       "text": [
        "\r",
        " [-----------------66%-----             ] 132 of 200 complete in 83.0 sec"
       ]
      },
      {
       "output_type": "stream",
       "stream": "stdout",
       "text": [
        "\r",
        " [-----------------66%-----             ] 133 of 200 complete in 83.8 sec"
       ]
      },
      {
       "output_type": "stream",
       "stream": "stdout",
       "text": [
        "\r",
        " [-----------------67%-----             ] 135 of 200 complete in 84.7 sec"
       ]
      },
      {
       "output_type": "stream",
       "stream": "stdout",
       "text": [
        "\r",
        " [-----------------68%-----             ] 136 of 200 complete in 85.6 sec"
       ]
      },
      {
       "output_type": "stream",
       "stream": "stdout",
       "text": [
        "\r",
        " [-----------------68%------            ] 137 of 200 complete in 86.5 sec"
       ]
      },
      {
       "output_type": "stream",
       "stream": "stdout",
       "text": [
        "\r",
        " [-----------------69%------            ] 139 of 200 complete in 87.4 sec"
       ]
      },
      {
       "output_type": "stream",
       "stream": "stdout",
       "text": [
        "\r",
        " [-----------------70%------            ] 141 of 200 complete in 88.3 sec"
       ]
      },
      {
       "output_type": "stream",
       "stream": "stdout",
       "text": [
        "\r",
        " [-----------------71%------            ] 142 of 200 complete in 89.2 sec"
       ]
      },
      {
       "output_type": "stream",
       "stream": "stdout",
       "text": [
        "\r",
        " [-----------------71%-------           ] 143 of 200 complete in 90.1 sec"
       ]
      },
      {
       "output_type": "stream",
       "stream": "stdout",
       "text": [
        "\r",
        " [-----------------72%-------           ] 144 of 200 complete in 91.0 sec"
       ]
      },
      {
       "output_type": "stream",
       "stream": "stdout",
       "text": [
        "\r",
        " [-----------------72%-------           ] 145 of 200 complete in 91.9 sec"
       ]
      },
      {
       "output_type": "stream",
       "stream": "stdout",
       "text": [
        "\r",
        " [-----------------73%-------           ] 147 of 200 complete in 92.8 sec"
       ]
      },
      {
       "output_type": "stream",
       "stream": "stdout",
       "text": [
        "\r",
        " [-----------------74%--------          ] 148 of 200 complete in 93.7 sec"
       ]
      },
      {
       "output_type": "stream",
       "stream": "stdout",
       "text": [
        "\r",
        " [-----------------75%--------          ] 151 of 200 complete in 94.5 sec"
       ]
      },
      {
       "output_type": "stream",
       "stream": "stdout",
       "text": [
        "\r",
        " [-----------------76%--------          ] 152 of 200 complete in 95.4 sec"
       ]
      },
      {
       "output_type": "stream",
       "stream": "stdout",
       "text": [
        "\r",
        " [-----------------77%---------         ] 154 of 200 complete in 96.3 sec"
       ]
      },
      {
       "output_type": "stream",
       "stream": "stdout",
       "text": [
        "\r",
        " [-----------------77%---------         ] 155 of 200 complete in 97.2 sec"
       ]
      },
      {
       "output_type": "stream",
       "stream": "stdout",
       "text": [
        "\r",
        " [-----------------78%---------         ] 156 of 200 complete in 98.1 sec"
       ]
      },
      {
       "output_type": "stream",
       "stream": "stdout",
       "text": [
        "\r",
        " [-----------------78%---------         ] 157 of 200 complete in 99.1 sec"
       ]
      },
      {
       "output_type": "stream",
       "stream": "stdout",
       "text": [
        "\r",
        " [-----------------79%----------        ] 158 of 200 complete in 100.0 sec"
       ]
      },
      {
       "output_type": "stream",
       "stream": "stdout",
       "text": [
        "\r",
        " [-----------------79%----------        ] 159 of 200 complete in 100.9 sec"
       ]
      },
      {
       "output_type": "stream",
       "stream": "stdout",
       "text": [
        "\r",
        " [-----------------80%----------        ] 160 of 200 complete in 101.8 sec"
       ]
      },
      {
       "output_type": "stream",
       "stream": "stdout",
       "text": [
        "\r",
        " [-----------------81%----------        ] 162 of 200 complete in 102.7 sec"
       ]
      },
      {
       "output_type": "stream",
       "stream": "stdout",
       "text": [
        "\r",
        " [-----------------81%----------        ] 163 of 200 complete in 103.5 sec"
       ]
      },
      {
       "output_type": "stream",
       "stream": "stdout",
       "text": [
        "\r",
        " [-----------------82%-----------       ] 164 of 200 complete in 104.4 sec"
       ]
      },
      {
       "output_type": "stream",
       "stream": "stdout",
       "text": [
        "\r",
        " [-----------------83%-----------       ] 166 of 200 complete in 105.3 sec"
       ]
      },
      {
       "output_type": "stream",
       "stream": "stdout",
       "text": [
        "\r",
        " [-----------------83%-----------       ] 167 of 200 complete in 106.2 sec"
       ]
      },
      {
       "output_type": "stream",
       "stream": "stdout",
       "text": [
        "\r",
        " [-----------------85%------------      ] 170 of 200 complete in 107.1 sec"
       ]
      },
      {
       "output_type": "stream",
       "stream": "stdout",
       "text": [
        "\r",
        " [-----------------85%------------      ] 171 of 200 complete in 108.0 sec"
       ]
      },
      {
       "output_type": "stream",
       "stream": "stdout",
       "text": [
        "\r",
        " [-----------------86%------------      ] 173 of 200 complete in 108.8 sec"
       ]
      },
      {
       "output_type": "stream",
       "stream": "stdout",
       "text": [
        "\r",
        " [-----------------87%-------------     ] 174 of 200 complete in 109.7 sec"
       ]
      },
      {
       "output_type": "stream",
       "stream": "stdout",
       "text": [
        "\r",
        " [-----------------87%-------------     ] 175 of 200 complete in 110.6 sec"
       ]
      },
      {
       "output_type": "stream",
       "stream": "stdout",
       "text": [
        "\r",
        " [-----------------88%-------------     ] 176 of 200 complete in 111.5 sec"
       ]
      },
      {
       "output_type": "stream",
       "stream": "stdout",
       "text": [
        "\r",
        " [-----------------88%-------------     ] 177 of 200 complete in 112.4 sec"
       ]
      },
      {
       "output_type": "stream",
       "stream": "stdout",
       "text": [
        "\r",
        " [-----------------89%-------------     ] 178 of 200 complete in 113.3 sec"
       ]
      },
      {
       "output_type": "stream",
       "stream": "stdout",
       "text": [
        "\r",
        " [-----------------90%--------------    ] 180 of 200 complete in 114.2 sec"
       ]
      },
      {
       "output_type": "stream",
       "stream": "stdout",
       "text": [
        "\r",
        " [-----------------90%--------------    ] 181 of 200 complete in 115.1 sec"
       ]
      },
      {
       "output_type": "stream",
       "stream": "stdout",
       "text": [
        "\r",
        " [-----------------91%--------------    ] 182 of 200 complete in 116.0 sec"
       ]
      },
      {
       "output_type": "stream",
       "stream": "stdout",
       "text": [
        "\r",
        " [-----------------91%--------------    ] 183 of 200 complete in 116.8 sec"
       ]
      },
      {
       "output_type": "stream",
       "stream": "stdout",
       "text": [
        "\r",
        " [-----------------92%--------------    ] 184 of 200 complete in 117.7 sec"
       ]
      },
      {
       "output_type": "stream",
       "stream": "stdout",
       "text": [
        "\r",
        " [-----------------92%---------------   ] 185 of 200 complete in 118.6 sec"
       ]
      },
      {
       "output_type": "stream",
       "stream": "stdout",
       "text": [
        "\r",
        " [-----------------93%---------------   ] 186 of 200 complete in 119.5 sec"
       ]
      },
      {
       "output_type": "stream",
       "stream": "stdout",
       "text": [
        "\r",
        " [-----------------93%---------------   ] 187 of 200 complete in 120.4 sec"
       ]
      },
      {
       "output_type": "stream",
       "stream": "stdout",
       "text": [
        "\r",
        " [-----------------95%----------------  ] 190 of 200 complete in 121.3 sec"
       ]
      },
      {
       "output_type": "stream",
       "stream": "stdout",
       "text": [
        "\r",
        " [-----------------96%----------------  ] 192 of 200 complete in 122.2 sec"
       ]
      },
      {
       "output_type": "stream",
       "stream": "stdout",
       "text": [
        "\r",
        " [-----------------96%----------------  ] 193 of 200 complete in 123.1 sec"
       ]
      },
      {
       "output_type": "stream",
       "stream": "stdout",
       "text": [
        "\r",
        " [-----------------97%----------------  ] 194 of 200 complete in 124.0 sec"
       ]
      },
      {
       "output_type": "stream",
       "stream": "stdout",
       "text": [
        "\r",
        " [-----------------97%----------------- ] 195 of 200 complete in 124.9 sec"
       ]
      },
      {
       "output_type": "stream",
       "stream": "stdout",
       "text": [
        "\r",
        " [-----------------98%----------------- ] 196 of 200 complete in 125.8 sec"
       ]
      },
      {
       "output_type": "stream",
       "stream": "stdout",
       "text": [
        "\r",
        " [-----------------99%----------------- ] 198 of 200 complete in 126.7 sec"
       ]
      },
      {
       "output_type": "stream",
       "stream": "stdout",
       "text": [
        "\r",
        " [-----------------99%----------------- ] 199 of 200 complete in 127.6 sec"
       ]
      },
      {
       "output_type": "stream",
       "stream": "stdout",
       "text": [
        "\r",
        " [-----------------100%-----------------] 200 of 200 complete in 128.5 sec"
       ]
      },
      {
       "output_type": "stream",
       "stream": "stdout",
       "text": [
        "\r",
        " [-----------------100%-----------------] 200 of 200 complete in 128.5 sec"
       ]
      },
      {
       "output_type": "stream",
       "stream": "stdout",
       "text": [
        "Plotting p_trans_exon_to_splice_site\n"
       ]
      },
      {
       "metadata": {},
       "output_type": "display_data",
       "png": "[encoded data removed]",
       "text": [
        "<matplotlib.figure.Figure at 0x10eaffad0>"
       ]
      }
     ],
     "prompt_number": 62
    }
   ],
   "metadata": {}
  }
 ]
}