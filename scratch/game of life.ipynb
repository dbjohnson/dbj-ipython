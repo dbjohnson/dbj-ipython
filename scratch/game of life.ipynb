{
 "metadata": {
  "name": "",
  "signature": "sha256:6b40418fbb76b6dee29d8a0ca915383189f3442dc1f15fca94e64f6a165cb409"
 },
 "nbformat": 3,
 "nbformat_minor": 0,
 "worksheets": [
  {
   "cells": [
    {
     "cell_type": "code",
     "collapsed": false,
     "input": [
      "%matplotlib inline\n",
      "import bokeh\n",
      "import IPython\n",
      "from IPython.html import widgets\n",
      "import pylab as plt\n",
      "import numpy as np\n",
      "import random\n",
      "import time\n",
      "from collections import OrderedDict"
     ],
     "language": "python",
     "metadata": {},
     "outputs": [],
     "prompt_number": 1
    },
    {
     "cell_type": "code",
     "collapsed": false,
     "input": [
      "def evolve(density=0.1, grid_size=50, generations=10, born='2', survive='2,3'):\n",
      "    \n",
      "    board = np.zeros((grid_size, grid_size))\n",
      "    old_board = np.zeros((grid_size, grid_size))\n",
      "\n",
      "    f = plt.figure(figsize=(10, 10))\n",
      "    plt.axis('off')\n",
      "    im = plt.imshow(board, interpolation='none', cmap='gray')\n",
      "\n",
      "    \n",
      "    for row in xrange(grid_size):\n",
      "        for col in xrange(grid_size):\n",
      "            if random.random() > 1 - density:\n",
      "                board[row, col] = 1\n",
      "                \n",
      "    born = set([int(x) for x in born.split(',')])\n",
      "    survive = set([int(x) for x in survive.split(',')])\n",
      "    for i in xrange(generations):\n",
      "        # copy last generation\n",
      "        old_board, board = board, old_board\n",
      "\n",
      "        # update current generation\n",
      "        for row in xrange(grid_size):\n",
      "            for col in xrange(grid_size):\n",
      "                # TODO: use integral image for update - should cost 2N rather than 9N\n",
      "                cnt = 0\n",
      "                for r in range(row-1, row+2):\n",
      "                    for c in range(col-1, col+2):\n",
      "                        cnt += old_board[r % grid_size, c % grid_size]\n",
      "\n",
      "                cnt -= old_board[row, col]\n",
      "                if (board[row, col] == 0 and cnt in born) or (cnt in survive and board[row, col] == 1):\n",
      "                    board[row, col] = 1\n",
      "                else:\n",
      "                    board[row, col] = 0\n",
      "\n",
      "#         im.set_data(board)\n",
      "        plt.imshow(board, interpolation='none', cmap='gray')\n",
      "        plt.title('Generation %d' % (i+1))\n",
      "        IPython.display.display(f)\n",
      "        IPython.display.clear_output(wait=True)\n",
      "#         time.sleep(1.0/framerate)\n",
      "\n",
      "grid_sizes = OrderedDict((str(x), x) for x in [10, 50, 100, 300])\n",
      "generations = OrderedDict((str(x), x) for x in [10, 50, 100, 1000, 10000])\n",
      "born = widgets.TextWidget(description=\"born\", value='3')\n",
      "survive = widgets.TextWidget(description=\"survive\", value='2,3')\n",
      "\n",
      "widgets.interact(evolve, density=(0., 1.), grid_size=grid_sizes, \n",
      "                 generations=generations, born=born, survive=survive);"
     ],
     "language": "python",
     "metadata": {},
     "outputs": [
      {
       "metadata": {},
       "output_type": "display_data",
       "png": "[encoded data removed]",
       "text": [
        "<matplotlib.figure.Figure at 0x108ed1f90>"
       ]
      }
     ],
     "prompt_number": 64
    }
   ],
   "metadata": {}
  }
 ]
}