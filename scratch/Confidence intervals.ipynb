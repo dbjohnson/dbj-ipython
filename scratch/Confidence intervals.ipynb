{
 "metadata": {
  "name": "",
  "signature": "sha256:61e7a29f982026a4def51e5fec70e8b70b0123bf46d78e3570af20714f665495"
 },
 "nbformat": 3,
 "nbformat_minor": 0,
 "worksheets": [
  {
   "cells": [
    {
     "cell_type": "code",
     "collapsed": false,
     "input": [
      "%matplotlib inline\n",
      "from matplotlib import pylab as plot\n",
      "import seaborn as sns\n",
      "import numpy as np\n",
      "from scipy import stats\n",
      "import random\n"
     ],
     "language": "python",
     "metadata": {},
     "outputs": [],
     "prompt_number": 30
    },
    {
     "cell_type": "code",
     "collapsed": false,
     "input": [
      "def confidence_interval(samples, ci):\n",
      "    avg = np.mean(samples)\n",
      "    s = np.std(samples)\n",
      "    n = len(samples)\n",
      "    dof = n - 1\n",
      "    return stats.t.interval(ci, dof, loc=avg, scale=s/np.sqrt(n))"
     ],
     "language": "python",
     "metadata": {},
     "outputs": [],
     "prompt_number": 2
    },
    {
     "cell_type": "code",
     "collapsed": false,
     "input": [
      "def bootstrap_confidence_interval(samples, ci, numdraws=int(1e4)):\n",
      "    draws = []\n",
      "    for k in xrange(num_draws):\n",
      "        s = 0\n",
      "        for x in xrange(len(samples)):\n",
      "            s += random.choice(samples)\n",
      "        draws.append(s/len(samples))\n",
      "        \n",
      "    return np.percentile(draws, [100*(1-ci)/2, 100*(1+ci)/2])"
     ],
     "language": "python",
     "metadata": {},
     "outputs": [],
     "prompt_number": 19
    },
    {
     "cell_type": "code",
     "collapsed": false,
     "input": [
      "mu = 10\n",
      "sigma = 5\n",
      "# samples = np.random.normal(loc=mu, scale=sigma, size=(200,1))\n",
      "samples = np.random.uniform(size=(200,1))\n",
      "\n",
      "ci = 0.90\n",
      "print 'T dist est: ', confidence_interval(samples, ci)\n",
      "print 'Bootstrap est: ', bootstrap_confidence_interval(samples, ci)\n",
      "x = plot.hist(samples)\n",
      "\n",
      "# draw CIs"
     ],
     "language": "python",
     "metadata": {},
     "outputs": [
      {
       "output_type": "stream",
       "stream": "stdout",
       "text": [
        "T dist est:  (0.46640033345961374, 0.53067022238407957)\n",
        "Bootstrap est:  "
       ]
      },
      {
       "output_type": "stream",
       "stream": "stdout",
       "text": [
        "[ 0.46651817  0.53123815]\n"
       ]
      },
      {
       "metadata": {},
       "output_type": "display_data",
       "png": "[encoded data removed]",
       "text": [
        "<matplotlib.figure.Figure at 0x10c9d3210>"
       ]
      }
     ],
     "prompt_number": 34
    }
   ],
   "metadata": {}
  }
 ]
}