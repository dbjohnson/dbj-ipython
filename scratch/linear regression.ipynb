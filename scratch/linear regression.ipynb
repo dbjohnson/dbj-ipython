{
 "metadata": {
  "name": "",
  "signature": "sha256:83ccc7db79e4b0f1d0aa449d51cb10791eff159ae455e073e2be8db073b28e32"
 },
 "nbformat": 3,
 "nbformat_minor": 0,
 "worksheets": [
  {
   "cells": [
    {
     "cell_type": "code",
     "collapsed": false,
     "input": [
      "%matplotlib inline\n",
      "import pylab as plot\n",
      "import numpy as np"
     ],
     "language": "python",
     "metadata": {},
     "outputs": [],
     "prompt_number": 190
    },
    {
     "cell_type": "code",
     "collapsed": false,
     "input": [
      "np.random.seed(0)\n",
      "n = 10\n",
      "x = np.random.normal(0, 1, size=(n))\n",
      "A = np.array([x, np.ones(n)])\n",
      "m = 3\n",
      "b = 2\n",
      "y = m*x + b + np.random.normal(0, 1, size=(n))\n",
      "\n",
      "weights = np.matrix(np.linalg.lstsq(A.T, y)[0])\n",
      "\n",
      "# A = np.matrix(A)\n",
      "# pinv = np.linalg.inv(A.T*A) * A.T\n",
      "# pinv = np.linalg.pinv(A)\n",
      "# weights = np.matrix(y) * pinv\n",
      "\n",
      "plot.scatter(x, y)\n",
      "plot.hold(True)\n",
      "yy = weights*A\n",
      "f = plot.plot(x, np.squeeze(np.asarray(yy)))"
     ],
     "language": "python",
     "metadata": {},
     "outputs": [
      {
       "metadata": {},
       "output_type": "display_data",
       "png": "[encoded data removed]",
       "text": [
        "<matplotlib.figure.Figure at 0x10ca1ef50>"
       ]
      }
     ],
     "prompt_number": 198
    }
   ],
   "metadata": {}
  }
 ]
}