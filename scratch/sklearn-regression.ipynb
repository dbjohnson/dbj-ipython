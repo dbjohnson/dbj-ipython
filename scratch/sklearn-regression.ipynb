{
 "metadata": {
  "name": "",
  "signature": "sha256:035d67dbc87b206814787ee946edcbf2e224402670198d01659d603e49b01ebc"
 },
 "nbformat": 3,
 "nbformat_minor": 0,
 "worksheets": [
  {
   "cells": [
    {
     "cell_type": "code",
     "collapsed": false,
     "input": [
      "%pylab inline\n",
      "import pylab as plot\n",
      "import numpy as np\n",
      "from sklearn import linear_model"
     ],
     "language": "python",
     "metadata": {},
     "outputs": [
      {
       "output_type": "stream",
       "stream": "stdout",
       "text": [
        "Populating the interactive namespace from numpy and matplotlib\n"
       ]
      },
      {
       "output_type": "stream",
       "stream": "stderr",
       "text": [
        "WARNING: pylab import has clobbered these variables: ['plot', 'clf']\n",
        "`%matplotlib` prevents importing * from pylab and numpy\n"
       ]
      }
     ],
     "prompt_number": 17
    },
    {
     "cell_type": "code",
     "collapsed": false,
     "input": [
      "np.random.seed(0)\n",
      "n = 10\n",
      "x = np.random.normal(0, 1, size=(n)).T\n",
      "m = 3\n",
      "b = 2\n",
      "y = m*x + b + np.random.normal(0, 1, size=(n))\n",
      "clf = linear_model.LinearRegression()\n",
      "clf.fit(np.matrix(x).T, np.matrix(y).T)\n",
      "print clf.coef_, clf.intercept_\n",
      "\n",
      "A = np.array([x, np.ones(n)])\n",
      "weights = np.matrix(np.linalg.lstsq(A.T, y)[0])\n",
      "print weights\n",
      "\n",
      "model = linear_model.RANSACRegressor(linear_model.LinearRegression())\n",
      "model.fit(np.array([[xx] for xx in x]), np.array([[yy] for yy in y]))\n",
      "print model.estimator_.coef_\n",
      "print dir(clf)\n",
      "print model\n"
     ],
     "language": "python",
     "metadata": {},
     "outputs": [
      {
       "output_type": "stream",
       "stream": "stdout",
       "text": [
        "[[ 3.04994402]] [ 2.36378617]\n",
        "[[ 3.04994402  2.36378617]]\n",
        "[[ 3.04994402]]\n",
        "['__abstractmethods__', '__class__', '__delattr__', '__dict__', '__doc__', '__format__', '__getattribute__', '__hash__', '__init__', '__module__', '__new__', '__reduce__', '__reduce_ex__', '__repr__', '__setattr__', '__sizeof__', '__str__', '__subclasshook__', '__weakref__', '_abc_cache', '_abc_negative_cache', '_abc_negative_cache_version', '_abc_registry', '_center_data', '_get_param_names', '_set_intercept', 'coef_', 'copy_X', 'decision_function', 'fit', 'fit_intercept', 'get_params', 'intercept_', 'normalize', 'predict', 'rank_', 'residues_', 'score', 'set_params', 'singular_']\n",
        "RANSACRegressor(base_estimator=LinearRegression(copy_X=True, fit_intercept=True, normalize=False),\n",
        "        is_data_valid=None, is_model_valid=None, max_trials=100,\n",
        "        min_samples=None, random_state=None, residual_metric=None,\n",
        "        residual_threshold=None, stop_n_inliers=inf, stop_probability=0.99,\n",
        "        stop_score=inf)\n"
       ]
      }
     ],
     "prompt_number": 37
    }
   ],
   "metadata": {}
  }
 ]
}