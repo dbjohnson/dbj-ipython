{
 "metadata": {
  "name": "",
  "signature": "sha256:d050aec474f3d6c05c66a1cd151ecb71c180d6474176e1f06e4e77834c34df7f"
 },
 "nbformat": 3,
 "nbformat_minor": 0,
 "worksheets": [
  {
   "cells": [
    {
     "cell_type": "markdown",
     "metadata": {},
     "source": [
      "https://projecteuler.net/problem=5\n",
      "2520 is the smallest number that can be divided by each of the numbers from 1 to 10 without any remainder.\n",
      "\n",
      "What is the smallest positive number that is evenly divisible by all of the numbers from 1 to 20?"
     ]
    },
    {
     "cell_type": "code",
     "collapsed": false,
     "input": [
      "maxDivisor = 20\n",
      "divisors = range(maxDivisor, 1, -1)\n",
      "n = maxDivisor\n",
      "winner = 0\n",
      "while True:\n",
      "\tfoundIt = True\n",
      "\tfor divisor in divisors:\n",
      "\t\tif (n % divisor) != 0:\n",
      "\t\t\tfoundIt = False\n",
      "\t\t\tbreak\n",
      "\n",
      "\tif foundIt:\n",
      "\t\twinner = n\n",
      "\t\tbreak;\n",
      "\n",
      "\tn += maxDivisor\n",
      "\n",
      "print 'Smallest value: ', winner"
     ],
     "language": "python",
     "metadata": {},
     "outputs": [
      {
       "output_type": "stream",
       "stream": "stdout",
       "text": [
        "Smallest value:  232792560\n"
       ]
      }
     ],
     "prompt_number": 1
    }
   ],
   "metadata": {}
  }
 ]
}