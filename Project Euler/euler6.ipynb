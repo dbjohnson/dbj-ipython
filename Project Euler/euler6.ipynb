{
 "metadata": {
  "name": "",
  "signature": "sha256:637210437024bfa8e4ece5f12875778f0ddafd09c73ec84441a627f03499a843"
 },
 "nbformat": 3,
 "nbformat_minor": 0,
 "worksheets": [
  {
   "cells": [
    {
     "cell_type": "markdown",
     "metadata": {},
     "source": [
      "https://projecteuler.net/problem=6\n",
      "\n",
      "The sum of the squares of the first ten natural numbers is,\n",
      "\n",
      "12 + 22 + ... + 102 = 385\n",
      "The square of the sum of the first ten natural numbers is,\n",
      "\n",
      "(1 + 2 + ... + 10)2 = 552 = 3025\n",
      "Hence the difference between the sum of the squares of the first ten natural numbers and the square of the sum is 3025 \u2212 385 = 2640.\n",
      "\n",
      "Find the difference between the sum of the squares of the first one hundred natural numbers and the square of the sum."
     ]
    },
    {
     "cell_type": "code",
     "collapsed": false,
     "input": [
      "n = 100\n",
      "\n",
      "s = sum(xrange(1, n+1))\n",
      "ssq = sum([x*x for x in xrange(1, n+1)])\n",
      "diff = s*s - ssq\n",
      "\n",
      "print 'Difference: ', diff"
     ],
     "language": "python",
     "metadata": {},
     "outputs": [
      {
       "output_type": "stream",
       "stream": "stdout",
       "text": [
        "Difference:  25164150\n"
       ]
      }
     ],
     "prompt_number": 1
    }
   ],
   "metadata": {}
  }
 ]
}