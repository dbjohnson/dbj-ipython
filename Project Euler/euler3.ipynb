{
 "metadata": {
  "name": "",
  "signature": "sha256:faf4472364a896445fb0a3bc97bbee087b942a12c1275d84650785f06721fb6d"
 },
 "nbformat": 3,
 "nbformat_minor": 0,
 "worksheets": [
  {
   "cells": [
    {
     "cell_type": "markdown",
     "metadata": {},
     "source": [
      "https://projecteuler.net/problem=3\n",
      "The prime factors of 13195 are 5, 7, 13 and 29.\n",
      "\n",
      "What is the largest prime factor of the number 600851475143 ?\n",
      "Cheated:\n",
      "http://stackoverflow.com/questions/15347174/python-finding-prime-factors\n"
     ]
    },
    {
     "cell_type": "code",
     "collapsed": false,
     "input": [
      "n = 600851475143\n",
      "i = 2\n",
      "while i*2 < n:\n",
      "     while n % i == 0:\n",
      "         n /= i\n",
      "     i += 1\n",
      "\n",
      "print n"
     ],
     "language": "python",
     "metadata": {},
     "outputs": [
      {
       "output_type": "stream",
       "stream": "stdout",
       "text": [
        "6857\n"
       ]
      }
     ],
     "prompt_number": 1
    }
   ],
   "metadata": {}
  }
 ]
}