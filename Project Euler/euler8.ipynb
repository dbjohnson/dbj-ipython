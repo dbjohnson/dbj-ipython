{
 "metadata": {
  "name": ""
 },
 "nbformat": 3,
 "nbformat_minor": 0,
 "worksheets": [
  {
   "cells": [
    {
     "cell_type": "code",
     "collapsed": false,
     "input": [
      "#The four adjacent digits in the 1000-digit number that have the greatest product are 9 \u00d7 9 \u00d7 8 \u00d7 9 = 5832.\n",
      "#Find the thirteen adjacent digits in the 1000-digit number that have the greatest product. What is the value of this product?"
     ],
     "language": "python",
     "metadata": {},
     "outputs": []
    },
    {
     "cell_type": "code",
     "collapsed": false,
     "input": [
      "from functools import reduce\n",
      "from operator import mul"
     ],
     "language": "python",
     "metadata": {},
     "outputs": [],
     "prompt_number": 42
    },
    {
     "cell_type": "code",
     "collapsed": false,
     "input": [
      "x = (\n",
      "    \"73167176531330624919225119674426574742355349194934\"\n",
      "    \"96983520312774506326239578318016984801869478851843\"\n",
      "    \"85861560789112949495459501737958331952853208805511\"\n",
      "    \"12540698747158523863050715693290963295227443043557\"\n",
      "    \"66896648950445244523161731856403098711121722383113\"\n",
      "    \"62229893423380308135336276614282806444486645238749\"\n",
      "    \"30358907296290491560440772390713810515859307960866\"\n",
      "    \"70172427121883998797908792274921901699720888093776\"\n",
      "    \"65727333001053367881220235421809751254540594752243\"\n",
      "    \"52584907711670556013604839586446706324415722155397\"\n",
      "    \"53697817977846174064955149290862569321978468622482\"\n",
      "    \"83972241375657056057490261407972968652414535100474\"\n",
      "    \"82166370484403199890008895243450658541227588666881\"\n",
      "    \"16427171479924442928230863465674813919123162824586\"\n",
      "    \"17866458359124566529476545682848912883142607690042\"\n",
      "    \"24219022671055626321111109370544217506941658960408\"\n",
      "    \"07198403850962455444362981230987879927244284909188\"\n",
      "    \"84580156166097919133875499200524063689912560717606\"\n",
      "    \"05886116467109405077541002256983155200055935729725\"\n",
      "    \"71636269561882670428252483600823257530420752963450\"\n",
      ")\n",
      "x = map(int, x)"
     ],
     "language": "python",
     "metadata": {},
     "outputs": [],
     "prompt_number": 43
    },
    {
     "cell_type": "code",
     "collapsed": false,
     "input": [
      "def find_sequence_with_largest_product(x, n):\n",
      "    products = [reduce(mul, x[i:i+n]) for i in xrange(len(x)-n)]\n",
      "    maxprod = max(products)\n",
      "    idx = products.index(maxprod)\n",
      "    return {'maxprod':maxprod, 'sequence':x[idx:idx+n]}\n",
      "    \n"
     ],
     "language": "python",
     "metadata": {},
     "outputs": [],
     "prompt_number": 54
    },
    {
     "cell_type": "code",
     "collapsed": false,
     "input": [
      "print find_sequence_with_largest_product(x, 13)"
     ],
     "language": "python",
     "metadata": {},
     "outputs": [
      {
       "output_type": "stream",
       "stream": "stdout",
       "text": [
        "{'maxprod': 23514624000, 'sequence': [5, 5, 7, 6, 6, 8, 9, 6, 6, 4, 8, 9, 5]}\n"
       ]
      }
     ],
     "prompt_number": 55
    }
   ],
   "metadata": {}
  }
 ]
}