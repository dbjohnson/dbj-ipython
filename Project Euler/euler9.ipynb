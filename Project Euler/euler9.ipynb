{
 "metadata": {
  "name": ""
 },
 "nbformat": 3,
 "nbformat_minor": 0,
 "worksheets": [
  {
   "cells": [
    {
     "cell_type": "code",
     "collapsed": false,
     "input": [
      "#A Pythagorean triplet is a set of three natural numbers, a < b < c, for which,\n",
      "#a2 + b2 = c2\n",
      "#For example, 32 + 42 = 9 + 16 = 25 = 52.\n",
      "\n",
      "#There exists exactly one Pythagorean triplet for which a + b + c = 1000.\n",
      "#Find the product abc."
     ],
     "language": "python",
     "metadata": {},
     "outputs": [],
     "prompt_number": 5
    },
    {
     "cell_type": "code",
     "collapsed": false,
     "input": [
      "import math\n",
      "\n",
      "foundit = False\n",
      "for a in xrange(1, 1000/3):\n",
      "    for b in xrange(a+1, (1000-a)/2):\n",
      "        cc = a*a + b*b\n",
      "        c = int(math.sqrt(a*a + b*b))\n",
      "        if c*c == cc and a+b+c == 1000:\n",
      "            print 'a, b, c: [%d, %d, %d]  prod: %d' % (a, b, c, a*b*c)\n",
      "            foundit = True\n",
      "            break\n",
      "    if foundit:\n",
      "        break\n",
      "else:\n",
      "    print \"Couldn't find it!\"\n"
     ],
     "language": "python",
     "metadata": {},
     "outputs": [
      {
       "output_type": "stream",
       "stream": "stdout",
       "text": [
        "a, b, c: [200, 375, 425]  prod: 31875000\n"
       ]
      }
     ],
     "prompt_number": 13
    }
   ],
   "metadata": {}
  }
 ]
}