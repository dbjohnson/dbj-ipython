{
 "metadata": {
  "name": ""
 },
 "nbformat": 3,
 "nbformat_minor": 0,
 "worksheets": [
  {
   "cells": [
    {
     "cell_type": "code",
     "collapsed": false,
     "input": [
      "# In a room N chairs are placed around a round table.\n",
      "# Knights enter the room one by one and choose at random an available empty chair.\n",
      "# To have enough elbow room the knights always leave at least one empty chair between each other.\n",
      "\n",
      "# When there aren't any suitable chairs left, the fraction C of empty chairs is determined.\n",
      "# We also define E(N) as the expected value of C.\n",
      "# We can verify that E(4) = 1/2 and E(6) = 5/9.\n",
      "\n",
      "# Find E(1018). Give your answer rounded to fourteen decimal places in the form 0.abcdefghijklmn."
     ],
     "language": "python",
     "metadata": {},
     "outputs": []
    },
    {
     "cell_type": "code",
     "collapsed": false,
     "input": [
      "import random"
     ],
     "language": "python",
     "metadata": {},
     "outputs": [],
     "prompt_number": 1
    },
    {
     "cell_type": "code",
     "collapsed": false,
     "input": [
      "def sample(n):\n",
      "    taken = 0\n",
      "    blocked = [False]*n\n",
      "    while sum(blocked) < n:\n",
      "        choice = random.randint(0, n-1)\n",
      "        if not blocked[choice]:\n",
      "            taken += 1\n",
      "            for offs in xrange(-1,2):\n",
      "                blocked[(choice+offs) % n] = True\n",
      "    return float(n - taken) / n\n",
      "            "
     ],
     "language": "python",
     "metadata": {},
     "outputs": [],
     "prompt_number": 74
    },
    {
     "cell_type": "code",
     "collapsed": false,
     "input": [
      "def analytical(n):\n",
      "    available = n\n",
      "    edges = 0\n",
      "    taken = 0\n",
      "    while available >= 1:\n",
      "        taken += 1\n",
      "        n3 = 0\n",
      "        i = 3\n",
      "        while i < available:\n",
      "            if i % 2 != 0:\n",
      "                n3 += 1\n",
      "            i += 3\n",
      "            \n",
      "        pn3 = float(n3) / (available-1)\n",
      "        available -= 2 + pn3\n",
      "        print taken, available, pn3\n",
      "\n",
      "\n",
      "#     print edges, taken, available\n",
      "    taken += available\n",
      "    \n",
      "    return float(n - taken) / n"
     ],
     "language": "python",
     "metadata": {},
     "outputs": [],
     "prompt_number": 600
    },
    {
     "cell_type": "code",
     "collapsed": false,
     "input": [
      "n = 6\n",
      "s = 10000\n",
      "print analytical(n)\n",
      "print float(sum([sample(n) for x in xrange(s)])) / s"
     ],
     "language": "python",
     "metadata": {},
     "outputs": [
      {
       "output_type": "stream",
       "stream": "stdout",
       "text": [
        "1 3.8 0.2\n",
        "2 1.44285714286 0.357142857143\n",
        "3 -0.557142857143 0.0\n",
        "0.592857142857\n",
        "0.554583333333"
       ]
      },
      {
       "output_type": "stream",
       "stream": "stdout",
       "text": [
        "\n"
       ]
      }
     ],
     "prompt_number": 602
    }
   ],
   "metadata": {}
  }
 ]
}