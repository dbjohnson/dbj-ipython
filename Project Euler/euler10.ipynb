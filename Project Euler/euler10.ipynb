{
 "metadata": {
  "name": "",
  "signature": "sha256:4332408429e1fb8c362cf1a13d4a9c404f7fc64023e31852fa930f965f174a5a"
 },
 "nbformat": 3,
 "nbformat_minor": 0,
 "worksheets": [
  {
   "cells": [
    {
     "cell_type": "markdown",
     "metadata": {},
     "source": [
      "https://projecteuler.net/problem=10\n",
      "The sum of the primes below 10 is 2 + 3 + 5 + 7 = 17.\n",
      "\n",
      "Find the sum of all the primes below two million."
     ]
    },
    {
     "cell_type": "code",
     "collapsed": false,
     "input": [
      "import prime_generator\n",
      "print sum(prime_generator.generatePrimes(2000000))"
     ],
     "language": "python",
     "metadata": {},
     "outputs": []
    }
   ],
   "metadata": {}
  }
 ]
}