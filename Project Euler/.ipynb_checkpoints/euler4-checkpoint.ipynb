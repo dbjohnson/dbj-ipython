{
 "metadata": {
  "name": "",
  "signature": "sha256:bedace9366ad41f67d232e7c6f48030f9d36c24e354055a2a758ada1c2ed7559"
 },
 "nbformat": 3,
 "nbformat_minor": 0,
 "worksheets": []
}