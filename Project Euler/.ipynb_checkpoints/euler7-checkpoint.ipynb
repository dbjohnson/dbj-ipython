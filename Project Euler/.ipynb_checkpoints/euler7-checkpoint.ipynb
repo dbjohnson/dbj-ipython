{
 "metadata": {
  "name": "",
  "signature": "sha256:84f676e33959acfe0c33e3a714ecc80b7a5da43178d65118ec91e6d36fc4d6fa"
 },
 "nbformat": 3,
 "nbformat_minor": 0,
 "worksheets": [
  {
   "cells": [
    {
     "cell_type": "markdown",
     "metadata": {},
     "source": [
      "https://projecteuler.net/problem=7\n",
      "By listing the first six prime numbers: 2, 3, 5, 7, 11, and 13, we can see that the 6th prime is 13.\n",
      "\n",
      "What is the 10 001st prime number?"
     ]
    },
    {
     "cell_type": "code",
     "collapsed": false,
     "input": [
      "import prime_generator\n",
      "print prime_generator.generate_primes(int(1e6))[10000]"
     ],
     "language": "python",
     "metadata": {},
     "outputs": [
      {
       "output_type": "stream",
       "stream": "stdout",
       "text": [
        "104743\n"
       ]
      }
     ],
     "prompt_number": 3
    }
   ],
   "metadata": {}
  }
 ]
}