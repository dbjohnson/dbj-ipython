{
 "metadata": {
  "name": "",
  "signature": "sha256:fafd013a038143e3ef3f8b75027cf1efeeba6d13e32a1469877973a1a03e8436"
 },
 "nbformat": 3,
 "nbformat_minor": 0,
 "worksheets": [
  {
   "cells": [
    {
     "cell_type": "markdown",
     "metadata": {},
     "source": [
      "https://projecteuler.net/problem=4\n",
      "A palindromic number reads the same both ways. The largest palindrome made from the product of two 2-digit numbers is 9009 = 91 \u00d7 99.\n",
      "\n",
      "Find the largest palindrome made from the product of two 3-digit numbers."
     ]
    },
    {
     "cell_type": "code",
     "collapsed": false,
     "input": [
      "def reverse(n):\n",
      "     reversed = 0\n",
      "     while n > 0:\n",
      "          reversed = 10*reversed + n % 10\n",
      "          n /= 10\n",
      "     return reversed\n",
      "\n",
      "largest = None\n",
      "for i in xrange(100, 1000):\n",
      "\tfor j in xrange(i, 1000):\n",
      "\t\tprod = i*j\n",
      "\t\tif prod > largest and prod == reverse(prod):\n",
      "\t\t\tlargest = prod\n",
      "\n",
      "print 'Largest palindrome: ', largest"
     ],
     "language": "python",
     "metadata": {},
     "outputs": [
      {
       "output_type": "stream",
       "stream": "stdout",
       "text": [
        "Largest palindrome:  906609\n"
       ]
      }
     ],
     "prompt_number": 1
    }
   ],
   "metadata": {}
  }
 ]
}