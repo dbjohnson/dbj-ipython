{
 "metadata": {
  "name": "",
  "signature": "sha256:362d6505533377e22a08cd50f48108dcd14e1b8097a4799b65d009122761e18b"
 },
 "nbformat": 3,
 "nbformat_minor": 0,
 "worksheets": [
  {
   "cells": [
    {
     "cell_type": "markdown",
     "metadata": {},
     "source": [
      "https://projecteuler.net/problem=1\n",
      "If we list all the natural numbers below 10 that are multiples of 3 or 5, we get 3, 5, 6 and 9. The sum of these multiples is 23.\n",
      "Find the sum of all the multiples of 3 or 5 below 1000."
     ]
    },
    {
     "cell_type": "code",
     "collapsed": false,
     "input": [
      "sum = 0\n",
      "\n",
      "for i in range(1000):\n",
      "\tif i % 3 == 0:\n",
      "\t\tsum += i\n",
      "\telif i % 5 == 0:\n",
      "\t\tsum += i\n",
      "\n",
      "print sum"
     ],
     "language": "python",
     "metadata": {},
     "outputs": [
      {
       "output_type": "stream",
       "stream": "stdout",
       "text": [
        "233168\n"
       ]
      }
     ],
     "prompt_number": 1
    }
   ],
   "metadata": {}
  }
 ]
}