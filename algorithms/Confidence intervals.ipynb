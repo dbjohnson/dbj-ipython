{
 "cells": [
  {
   "cell_type": "code",
   "execution_count": 1,
   "metadata": {
    "collapsed": false
   },
   "outputs": [
    {
     "name": "stderr",
     "output_type": "stream",
     "text": [
      "/Users/bryan/.virtualenvs/scipy/lib/python2.7/site-packages/matplotlib/__init__.py:872: UserWarning: axes.color_cycle is deprecated and replaced with axes.prop_cycle; please use the latter.\n",
      "  warnings.warn(self.msg_depr % (key, alt_key))\n"
     ]
    }
   ],
   "source": [
    "%matplotlib inline\n",
    "from matplotlib import pylab as plot\n",
    "import seaborn as sns\n",
    "import numpy as np\n",
    "from scipy import stats\n",
    "import random\n"
   ]
  },
  {
   "cell_type": "code",
   "execution_count": 2,
   "metadata": {
    "collapsed": false
   },
   "outputs": [],
   "source": [
    "def confidence_interval(samples, ci):\n",
    "    avg = np.mean(samples)\n",
    "    s = np.std(samples)\n",
    "    n = len(samples)\n",
    "    dof = n - 1\n",
    "    return stats.t.interval(ci, dof, loc=avg, scale=s/np.sqrt(n))"
   ]
  },
  {
   "cell_type": "code",
   "execution_count": 5,
   "metadata": {
    "collapsed": false
   },
   "outputs": [
    {
     "name": "stdout",
     "output_type": "stream",
     "text": [
      "\n"
     ]
    }
   ],
   "source": [
    "def bootstrap_confidence_interval(samples, ci, num_draws=int(1e4)):\n",
    "    draws = []\n",
    "    for k in xrange(num_draws):\n",
    "        s = 0\n",
    "        for x in xrange(len(samples)):\n",
    "            s += random.choice(samples)\n",
    "        draws.append(s/len(samples))\n",
    "        \n",
    "    return np.percentile(draws, [100*(1-ci)/2, 100*(1+ci)/2])"
   ]
  },
  {
   "cell_type": "code",
   "execution_count": 7,
   "metadata": {
    "collapsed": false
   },
   "outputs": [
    {
     "name": "stdout",
     "output_type": "stream",
     "text": [
      "T dist est:  (8.8855696715394643, 10.142387123920674)\n",
      "Bootstrap est:  [  8.87939702  10.13308348]\n"
     ]
    },
    {
     "data": {
      "image/png": "[encoded data removed]",
      "text/plain": [
       "<matplotlib.figure.Figure at 0x10eb49fd0>"
      ]
     },
     "metadata": {},
     "output_type": "display_data"
    }
   ],
   "source": [
    "mu = 10\n",
    "sigma = 5\n",
    "samples = np.random.normal(loc=mu, scale=sigma, size=(200,1))\n",
    "# samples = np.random.uniform(size=(200,1))\n",
    "\n",
    "ci = 0.90\n",
    "print 'T dist est: ', confidence_interval(samples, ci)\n",
    "print 'Bootstrap est: ', bootstrap_confidence_interval(samples, ci)\n",
    "x = plot.hist(samples)\n",
    "\n",
    "# draw CIs"
   ]
  }
 ],
 "metadata": {
  "kernelspec": {
   "display_name": "Python 2",
   "language": "python",
   "name": "python2"
  },
  "language_info": {
   "codemirror_mode": {
    "name": "ipython",
    "version": 2
   },
   "file_extension": ".py",
   "mimetype": "text/x-python",
   "name": "python",
   "nbconvert_exporter": "python",
   "pygments_lexer": "ipython2",
   "version": "2.7.10"
  }
 },
 "nbformat": 4,
 "nbformat_minor": 0
}
