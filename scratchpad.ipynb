{
 "metadata": {
  "name": "",
  "signature": "sha256:6953f2ac2772c29ffde6f81241405cf10141b8615920a5509def1efc67d7232b"
 },
 "nbformat": 3,
 "nbformat_minor": 0,
 "worksheets": [
  {
   "cells": [
    {
     "cell_type": "code",
     "collapsed": false,
     "input": [
      "%matplotlib inline\n",
      "import pylab as plt\n",
      "import pandas as pd\n",
      "import numpy as np\n",
      "import seaborn as sns\n",
      "import scipy"
     ],
     "language": "python",
     "metadata": {},
     "outputs": [
      {
       "output_type": "stream",
       "stream": "stderr",
       "text": [
        "ERROR: Line magic function `%bokeh` not found.\n"
       ]
      }
     ],
     "prompt_number": 2
    },
    {
     "cell_type": "code",
     "collapsed": false,
     "input": [
      "n = 100\n",
      "p = 10\n",
      "A = np.zeros((n, p+1))\n",
      "A[:, -1] = np.ones(n)\n",
      "y = np.random.random((n))\n",
      "for col in xrange(p):\n",
      "    if col == p - 1:\n",
      "        m = 3\n",
      "        b = 2\n",
      "        A[:, col] = y/m - b + np.random.normal(0, 0.1, size=(n))\n",
      "    else:\n",
      "        A[:, col] = np.random.random(n)\n",
      "\n",
      "        \n",
      "def stepwise(A, y):\n",
      "    p = 1\n",
      "    cols = []\n",
      "    while True:\n",
      "        p_best_col = best_col = None\n",
      "        for col in xrange(A.shape[1] - 1):\n",
      "            if col in cols:\n",
      "                continue\n",
      "            test_cols = cols[:]\n",
      "            test_cols.append(col)\n",
      "            test_cols.append(A.shape[1]-1)  # bias weight\n",
      "            A_test = A[:, test_cols]\n",
      "            weights = np.matrix(np.linalg.lstsq(A_test, y)[0]).T\n",
      "            yhat = A_test * weights\n",
      "            r, p_col = scipy.stats.pearsonr(y, np.asarray(yhat.T)[0])\n",
      "            if p_best_col is None or p_col < p_best_col:\n",
      "                p_best_col = p_col\n",
      "                best_col = col\n",
      "        \n",
      "        if p_best_col is not None and p_best_col < p:\n",
      "            p = p_best_col\n",
      "            cols.append(best_col)\n",
      "        else:\n",
      "            break\n",
      "    \n",
      "    return p, sorted(cols)    \n",
      "            \n",
      "            \n",
      "p, cols = stepwise(A, y)  \n",
      "print p, cols\n",
      "cols.append(A.shape[1]-1)\n",
      "weights = np.matrix(np.linalg.lstsq(A[:, cols], y)[0]).T\n",
      "yhat = A[:, cols] * weights\n",
      "            \n",
      "r, p_norm = scipy.stats.pearsonr(y, np.asarray(yhat.T)[0])\n",
      "print r, p_norm\n",
      "plt.subplot(121)\n",
      "plt.plot(y, yhat, 'b.')\n",
      "plt.subplot(122)\n",
      "sns.heatmap(weights, annot=True);\n"
     ],
     "language": "python",
     "metadata": {},
     "outputs": [
      {
       "output_type": "stream",
       "stream": "stdout",
       "text": [
        "2.88222743578e-15 [0, 1, 2, 3, 4, 5, 6, 7, 8, 9]\n",
        "0.687251978456 2.88222743578e-15\n"
       ]
      },
      {
       "metadata": {},
       "output_type": "display_data",
       "png": "[encoded data removed]",
       "text": [
        "<matplotlib.figure.Figure at 0x7f4cb15b65d0>"
       ]
      }
     ],
     "prompt_number": 3
    }
   ],
   "metadata": {}
  }
 ]
}