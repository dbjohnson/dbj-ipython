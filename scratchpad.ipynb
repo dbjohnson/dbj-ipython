{
 "metadata": {
  "name": "",
  "signature": "sha256:6fec3dfdccd9198f89ed75d7182bb93b755848fcbeb4784d9f23c0bf29cbd7f6"
 },
 "nbformat": 3,
 "nbformat_minor": 0,
 "worksheets": [
  {
   "cells": [
    {
     "cell_type": "code",
     "collapsed": false,
     "input": [
      "from skimage import measure\n",
      "import numpy as np\n",
      "x = np.array([[0, 1, 1], [1, 0, 0], [0, 0, 0], [0, 0, 0]])\n",
      "print measure.label(x, neighbors=4, background=0)"
     ],
     "language": "python",
     "metadata": {},
     "outputs": [
      {
       "output_type": "stream",
       "stream": "stdout",
       "text": [
        "[[-1  0  0]\n",
        " [ 1 -1 -1]\n",
        " [-1 -1 -1]\n",
        " [-1 -1 -1]]\n"
       ]
      }
     ],
     "prompt_number": 57
    }
   ],
   "metadata": {}
  }
 ]
}